{
 "cells": [
  {
   "cell_type": "code",
   "execution_count": 175,
   "metadata": {},
   "outputs": [],
   "source": [
    " words = \"新加坡总理妄称南海仲裁强而有力 外交部回应，，，，，。答：关于南海仲裁案仲裁庭作出的所谓裁决，中方已表明严正立场。有关裁决非法、无效，没有约束力。在刚刚结束的东亚合作系列外长会上，东盟方已明确表示作为整体对所谓仲裁案不持立场。\""
   ]
  },
  {
   "cell_type": "code",
   "execution_count": 176,
   "metadata": {},
   "outputs": [],
   "source": [
    "import jieba\n",
    "import regex\n",
    "pattern = regex.compile(r'[\\p{P}]',flags=regex.MULTILINE)\n",
    "words = regex.sub(pattern,' ',words)\n",
    "#print(words)\n",
    "words = ' '.join(jieba.cut(words)).split()\n"
   ]
  },
  {
   "cell_type": "code",
   "execution_count": 65,
   "metadata": {},
   "outputs": [],
   "source": [
    "filter_fn=filter_ngram\n",
    "def filter_ngram(gram, mode='any'):\n",
    "    \"\"\"Decide whether to keep or discard an n-gram.\n",
    "\n",
    "    Args:\n",
    "        gram: list of tokens (length N)\n",
    "        mode: Option to throw out ngram if\n",
    "          'any': any single token passes filter_word\n",
    "          'all': all tokens pass filter_word\n",
    "          'ends': book-ended by filterable tokens\n",
    "    \"\"\"\n",
    "    filtered = [w for w in gram]\n",
    "    if mode == 'any':\n",
    "        return any(filtered)\n",
    "    elif mode == 'all':\n",
    "        return all(filtered)\n",
    "    elif mode == 'ends':\n",
    "        return filtered[0] or filtered[-1]\n",
    "    else:\n",
    "        raise ValueError('Invalid mode: %s' % mode)\n",
    "\n",
    "def _skip(gram):\n",
    "    if not filter_fn:\n",
    "        return False\n",
    "    return filter_fn(gram)\n",
    "ngrams = [(s, e + 1)\n",
    "          for s in range(len(words))\n",
    "          for e in range(s, min(s+2, len(words)))\n",
    "          ]"
   ]
  },
  {
   "cell_type": "code",
   "execution_count": 66,
   "metadata": {},
   "outputs": [
    {
     "data": {
      "text/plain": [
       "[(0, 1),\n",
       " (0, 2),\n",
       " (1, 2),\n",
       " (1, 3),\n",
       " (2, 3),\n",
       " (2, 4),\n",
       " (3, 4),\n",
       " (3, 5),\n",
       " (4, 5),\n",
       " (4, 6),\n",
       " (5, 6),\n",
       " (5, 7),\n",
       " (6, 7),\n",
       " (6, 8),\n",
       " (7, 8),\n",
       " (7, 9),\n",
       " (8, 9),\n",
       " (8, 10),\n",
       " (9, 10),\n",
       " (9, 11),\n",
       " (10, 11),\n",
       " (10, 12),\n",
       " (11, 12),\n",
       " (11, 13),\n",
       " (12, 13),\n",
       " (12, 14),\n",
       " (13, 14),\n",
       " (13, 15),\n",
       " (14, 15),\n",
       " (14, 16),\n",
       " (15, 16),\n",
       " (15, 17),\n",
       " (16, 17),\n",
       " (16, 18),\n",
       " (17, 18),\n",
       " (17, 19),\n",
       " (18, 19),\n",
       " (18, 20),\n",
       " (19, 20),\n",
       " (19, 21),\n",
       " (20, 21),\n",
       " (20, 22),\n",
       " (21, 22),\n",
       " (21, 23),\n",
       " (22, 23),\n",
       " (22, 24),\n",
       " (23, 24),\n",
       " (23, 25),\n",
       " (24, 25),\n",
       " (24, 26),\n",
       " (25, 26),\n",
       " (25, 27),\n",
       " (26, 27),\n",
       " (26, 28),\n",
       " (27, 28),\n",
       " (27, 29),\n",
       " (28, 29),\n",
       " (28, 30),\n",
       " (29, 30),\n",
       " (29, 31),\n",
       " (30, 31),\n",
       " (30, 32),\n",
       " (31, 32),\n",
       " (31, 33),\n",
       " (32, 33),\n",
       " (32, 34),\n",
       " (33, 34),\n",
       " (33, 35),\n",
       " (34, 35),\n",
       " (34, 36),\n",
       " (35, 36),\n",
       " (35, 37),\n",
       " (36, 37),\n",
       " (36, 38),\n",
       " (37, 38),\n",
       " (37, 39),\n",
       " (38, 39),\n",
       " (38, 40),\n",
       " (39, 40),\n",
       " (39, 41),\n",
       " (40, 41),\n",
       " (40, 42),\n",
       " (41, 42),\n",
       " (41, 43),\n",
       " (42, 43),\n",
       " (42, 44),\n",
       " (43, 44),\n",
       " (43, 45),\n",
       " (44, 45),\n",
       " (44, 46),\n",
       " (45, 46),\n",
       " (45, 47),\n",
       " (46, 47),\n",
       " (46, 48),\n",
       " (47, 48),\n",
       " (47, 49),\n",
       " (48, 49),\n",
       " (48, 50),\n",
       " (49, 50),\n",
       " (49, 51),\n",
       " (50, 51),\n",
       " (50, 52),\n",
       " (51, 52),\n",
       " (51, 53),\n",
       " (52, 53),\n",
       " (52, 54),\n",
       " (53, 54),\n",
       " (53, 55),\n",
       " (54, 55),\n",
       " (54, 56),\n",
       " (55, 56),\n",
       " (55, 57),\n",
       " (56, 57),\n",
       " (56, 58),\n",
       " (57, 58)]"
      ]
     },
     "execution_count": 66,
     "metadata": {},
     "output_type": "execute_result"
    }
   ],
   "source": [
    "ngrams"
   ]
  },
  {
   "cell_type": "code",
   "execution_count": 67,
   "metadata": {},
   "outputs": [],
   "source": [
    "ngrams = ['{}'.format(''.join(words[s:e])) for (s, e) in ngrams]\n"
   ]
  },
  {
   "cell_type": "code",
   "execution_count": 68,
   "metadata": {
    "scrolled": false
   },
   "outputs": [
    {
     "data": {
      "text/plain": [
       "['新加坡',\n",
       " '新加坡总理',\n",
       " '总理',\n",
       " '总理妄称',\n",
       " '妄称',\n",
       " '妄称南海',\n",
       " '南海',\n",
       " '南海仲裁',\n",
       " '仲裁',\n",
       " '仲裁强而有力',\n",
       " '强而有力',\n",
       " '强而有力外交部',\n",
       " '外交部',\n",
       " '外交部回应',\n",
       " '回应',\n",
       " '回应。',\n",
       " '。',\n",
       " '。答',\n",
       " '答',\n",
       " '答：',\n",
       " '：',\n",
       " '：关于',\n",
       " '关于',\n",
       " '关于南海',\n",
       " '南海',\n",
       " '南海仲裁',\n",
       " '仲裁',\n",
       " '仲裁案',\n",
       " '案',\n",
       " '案仲裁庭',\n",
       " '仲裁庭',\n",
       " '仲裁庭作出',\n",
       " '作出',\n",
       " '作出的',\n",
       " '的',\n",
       " '的所谓',\n",
       " '所谓',\n",
       " '所谓裁决',\n",
       " '裁决',\n",
       " '裁决，',\n",
       " '，',\n",
       " '，中方',\n",
       " '中方',\n",
       " '中方已',\n",
       " '已',\n",
       " '已表明',\n",
       " '表明',\n",
       " '表明严正',\n",
       " '严正',\n",
       " '严正立场',\n",
       " '立场',\n",
       " '立场。',\n",
       " '。',\n",
       " '。有关',\n",
       " '有关',\n",
       " '有关裁决',\n",
       " '裁决',\n",
       " '裁决非法',\n",
       " '非法',\n",
       " '非法、',\n",
       " '、',\n",
       " '、无效',\n",
       " '无效',\n",
       " '无效，',\n",
       " '，',\n",
       " '，没有',\n",
       " '没有',\n",
       " '没有约束力',\n",
       " '约束力',\n",
       " '约束力。',\n",
       " '。',\n",
       " '。在',\n",
       " '在',\n",
       " '在刚刚',\n",
       " '刚刚',\n",
       " '刚刚结束',\n",
       " '结束',\n",
       " '结束的',\n",
       " '的',\n",
       " '的东亚',\n",
       " '东亚',\n",
       " '东亚合作',\n",
       " '合作',\n",
       " '合作系列',\n",
       " '系列',\n",
       " '系列外长',\n",
       " '外长',\n",
       " '外长会上',\n",
       " '会上',\n",
       " '会上，',\n",
       " '，',\n",
       " '，东盟',\n",
       " '东盟',\n",
       " '东盟方已',\n",
       " '方已',\n",
       " '方已明确',\n",
       " '明确',\n",
       " '明确表示',\n",
       " '表示',\n",
       " '表示作为',\n",
       " '作为',\n",
       " '作为整体',\n",
       " '整体',\n",
       " '整体对',\n",
       " '对',\n",
       " '对所谓',\n",
       " '所谓',\n",
       " '所谓仲裁',\n",
       " '仲裁',\n",
       " '仲裁案不持',\n",
       " '案不持',\n",
       " '案不持立场',\n",
       " '立场',\n",
       " '立场。',\n",
       " '。']"
      ]
     },
     "execution_count": 68,
     "metadata": {},
     "output_type": "execute_result"
    }
   ],
   "source": [
    "ngrams"
   ]
  },
  {
   "cell_type": "code",
   "execution_count": 81,
   "metadata": {
    "scrolled": true
   },
   "outputs": [
    {
     "name": "stdout",
     "output_type": "stream",
     "text": [
      "Counter({14838000: 4, 3550798: 3, 12667522: 3, 8647692: 2, 10902299: 2, 5620007: 2, 4453990: 2, 2518887: 2, 3739528: 2, 2559519: 2, 1469215: 1, 13879809: 1, 14414085: 1, 10677256: 1, 9104394: 1, 8717579: 1, 16452365: 1, 14133008: 1, 6343955: 1, 6544404: 1, 12975391: 1, 1110048: 1, 13265697: 1, 5613605: 1, 6037289: 1, 12933678: 1, 6567471: 1, 9029943: 1, 14466360: 1, 13929641: 1, 16115260: 1, 13141770: 1, 6044222: 1, 11680437: 1, 1687872: 1, 5791554: 1, 10441996: 1, 967223: 1, 10576721: 1, 3024980: 1, 10002014: 1, 10897759: 1, 3756560: 1, 9629538: 1, 9299555: 1, 6090982: 1, 7539047: 1, 4055144: 1, 4502377: 1, 11000428: 1, 1560685: 1, 12799344: 1, 7580785: 1, 12756340: 1, 3652372: 1, 15303547: 1, 13248639: 1, 3220353: 1, 3000458: 1, 12715403: 1, 8561293: 1, 13188383: 1, 5235345: 1, 7330196: 1, 9051547: 1, 1968148: 1, 14430627: 1, 14363044: 1, 11021221: 1, 3327142: 1, 11940521: 1, 519852: 1, 9428141: 1, 16482734: 1, 4261297: 1, 14269365: 1, 6480201: 1, 16311740: 1, 13258946: 1, 9610693: 1, 12544460: 1, 11751376: 1, 11857873: 1, 12614611: 1, 14349902: 1, 5250263: 1, 13374168: 1, 10374874: 1, 13162972: 1, 14760158: 1, 13120805: 1, 10219494: 1, 14618855: 1, 16329448: 1, 8071914: 1, 9649643: 1, 3408620: 1, 6667246: 1, 16757237: 1, 4534185: 1, 12404216: 1})\n"
     ]
    }
   ],
   "source": [
    "from sklearn.utils import murmurhash3_32\n",
    "from collections import Counter\n",
    "import math\n",
    "row, col, data = [], [], []\n",
    "hash_size = int(math.pow(2, 24))\n",
    "def hash(token, num_buckets):\n",
    "    \"\"\"Unsigned 32 bit murmurhash for feature hashing.\"\"\"\n",
    "    return murmurhash3_32(token, positive=True) % num_buckets\n",
    "hash_ans = [hash(gram, hash_size) for gram in ngrams]\n",
    "counts = Counter(hash_ans)\n",
    "\n",
    "row.extend(counts.keys())\n",
    "col.extend([0]*len(counts))\n",
    "data.extend(counts.values())\n",
    "print(counts)"
   ]
  },
  {
   "cell_type": "code",
   "execution_count": 70,
   "metadata": {
    "scrolled": true
   },
   "outputs": [
    {
     "data": {
      "text/plain": [
       "[1,\n",
       " 1,\n",
       " 1,\n",
       " 1,\n",
       " 1,\n",
       " 1,\n",
       " 2,\n",
       " 1,\n",
       " 1,\n",
       " 1,\n",
       " 1,\n",
       " 2,\n",
       " 1,\n",
       " 1,\n",
       " 1,\n",
       " 1,\n",
       " 2,\n",
       " 1,\n",
       " 1,\n",
       " 1,\n",
       " 1,\n",
       " 1,\n",
       " 1,\n",
       " 1,\n",
       " 1,\n",
       " 1,\n",
       " 1,\n",
       " 1,\n",
       " 1,\n",
       " 1,\n",
       " 1,\n",
       " 3,\n",
       " 1,\n",
       " 1,\n",
       " 1,\n",
       " 1,\n",
       " 1,\n",
       " 1,\n",
       " 1,\n",
       " 1,\n",
       " 2,\n",
       " 1,\n",
       " 1,\n",
       " 1,\n",
       " 2,\n",
       " 1,\n",
       " 1,\n",
       " 1,\n",
       " 1,\n",
       " 1,\n",
       " 1,\n",
       " 1,\n",
       " 1,\n",
       " 1,\n",
       " 3,\n",
       " 2,\n",
       " 1,\n",
       " 1,\n",
       " 1,\n",
       " 1,\n",
       " 1,\n",
       " 1,\n",
       " 1,\n",
       " 1,\n",
       " 1,\n",
       " 1,\n",
       " 1,\n",
       " 1,\n",
       " 1,\n",
       " 1,\n",
       " 1,\n",
       " 1,\n",
       " 1,\n",
       " 1,\n",
       " 1,\n",
       " 2,\n",
       " 1,\n",
       " 1,\n",
       " 1,\n",
       " 1,\n",
       " 1,\n",
       " 1,\n",
       " 1,\n",
       " 1,\n",
       " 1,\n",
       " 1,\n",
       " 1,\n",
       " 1,\n",
       " 1,\n",
       " 1,\n",
       " 1,\n",
       " 1,\n",
       " 1,\n",
       " 1,\n",
       " 1,\n",
       " 1,\n",
       " 1,\n",
       " 4,\n",
       " 1,\n",
       " 1,\n",
       " 1]"
      ]
     },
     "execution_count": 70,
     "metadata": {},
     "output_type": "execute_result"
    }
   ],
   "source": [
    "data"
   ]
  },
  {
   "cell_type": "code",
   "execution_count": 71,
   "metadata": {},
   "outputs": [],
   "source": [
    "from scipy.sparse import csr_matrix\n",
    "count_matrix = csr_matrix(\n",
    "        (data, (row, col)), shape=(hash_size, 1)\n",
    "    )"
   ]
  },
  {
   "cell_type": "code",
   "execution_count": 72,
   "metadata": {},
   "outputs": [
    {
     "data": {
      "text/plain": [
       "<16777216x1 sparse matrix of type '<class 'numpy.int32'>'\n",
       "\twith 101 stored elements in Compressed Sparse Row format>"
      ]
     },
     "execution_count": 72,
     "metadata": {},
     "output_type": "execute_result"
    }
   ],
   "source": [
    "count_matrix"
   ]
  },
  {
   "cell_type": "code",
   "execution_count": 73,
   "metadata": {},
   "outputs": [],
   "source": [
    "count_matrix.sum_duplicates()"
   ]
  },
  {
   "cell_type": "code",
   "execution_count": 74,
   "metadata": {},
   "outputs": [
    {
     "data": {
      "text/plain": [
       "(16777216, 1)"
      ]
     },
     "execution_count": 74,
     "metadata": {},
     "output_type": "execute_result"
    }
   ],
   "source": [
    "count_matrix.toarray().shape"
   ]
  },
  {
   "cell_type": "code",
   "execution_count": 77,
   "metadata": {},
   "outputs": [
    {
     "ename": "TypeError",
     "evalue": "'int' object does not support item assignment",
     "output_type": "error",
     "traceback": [
      "\u001b[1;31m---------------------------------------------------------------------------\u001b[0m",
      "\u001b[1;31mTypeError\u001b[0m                                 Traceback (most recent call last)",
      "\u001b[1;32m<ipython-input-77-c9c1cd94a908>\u001b[0m in \u001b[0;36m<module>\u001b[1;34m()\u001b[0m\n\u001b[0;32m      1\u001b[0m \u001b[0midfs\u001b[0m \u001b[1;33m=\u001b[0m \u001b[1;33m-\u001b[0m\u001b[1;36m1\u001b[0m\u001b[1;33m\u001b[0m\u001b[0m\n\u001b[1;32m----> 2\u001b[1;33m \u001b[0midfs\u001b[0m\u001b[1;33m[\u001b[0m\u001b[0midfs\u001b[0m \u001b[1;33m<\u001b[0m \u001b[1;36m0\u001b[0m\u001b[1;33m]\u001b[0m\u001b[1;33m=\u001b[0m\u001b[1;36m0\u001b[0m\u001b[1;33m\u001b[0m\u001b[0m\n\u001b[0m",
      "\u001b[1;31mTypeError\u001b[0m: 'int' object does not support item assignment"
     ]
    }
   ],
   "source": [
    "idfs = -1\n",
    "idfs[idfs < 0]=0"
   ]
  },
  {
   "cell_type": "code",
   "execution_count": 78,
   "metadata": {},
   "outputs": [
    {
     "data": {
      "text/plain": [
       "array([[ 0.,  1.,  4.],\n",
       "       [ 0.,  4., 10.],\n",
       "       [ 0.,  7., 16.]])"
      ]
     },
     "execution_count": 78,
     "metadata": {},
     "output_type": "execute_result"
    }
   ],
   "source": [
    "import numpy as np\n",
    "x1 = np.arange(9.0).reshape((3, 3))\n",
    "x2 = np.arange(3.0)\n",
    "np.multiply(x1, x2)"
   ]
  },
  {
   "cell_type": "code",
   "execution_count": 79,
   "metadata": {},
   "outputs": [
    {
     "data": {
      "text/plain": [
       "array([[0., 1., 2.],\n",
       "       [3., 4., 5.],\n",
       "       [6., 7., 8.]])"
      ]
     },
     "execution_count": 79,
     "metadata": {},
     "output_type": "execute_result"
    }
   ],
   "source": [
    "x1"
   ]
  },
  {
   "cell_type": "code",
   "execution_count": 80,
   "metadata": {},
   "outputs": [
    {
     "data": {
      "text/plain": [
       "array([0., 1., 2.])"
      ]
     },
     "execution_count": 80,
     "metadata": {},
     "output_type": "execute_result"
    }
   ],
   "source": [
    "x2"
   ]
  },
  {
   "cell_type": "code",
   "execution_count": 129,
   "metadata": {},
   "outputs": [],
   "source": [
    "from scipy.sparse import csr_matrix\n",
    "row = np.array([0, 0, 1, 2, 2, 2])\n",
    "col = np.array([0, 2, 2, 0, 1, 2])\n",
    "data = np.array([1, 0, 1, 3, 0, 4])\n",
    "matrix = csr_matrix((data, (row, col)), shape=(3, 3))\n",
    "binary = (matrix>0).astype(int)\n",
    "freqs = np.array(binary.sum(1)).squeeze()"
   ]
  },
  {
   "cell_type": "code",
   "execution_count": 130,
   "metadata": {},
   "outputs": [
    {
     "name": "stdout",
     "output_type": "stream",
     "text": [
      "  (0, 0)\tTrue\n",
      "  (1, 2)\tTrue\n",
      "  (2, 0)\tTrue\n",
      "  (2, 2)\tTrue\n"
     ]
    }
   ],
   "source": [
    "print(matrix>0)"
   ]
  },
  {
   "cell_type": "code",
   "execution_count": 131,
   "metadata": {},
   "outputs": [
    {
     "data": {
      "text/plain": [
       "array([[1, 0, 0],\n",
       "       [0, 0, 1],\n",
       "       [3, 0, 4]], dtype=int32)"
      ]
     },
     "execution_count": 131,
     "metadata": {},
     "output_type": "execute_result"
    }
   ],
   "source": [
    "matrix.toarray()"
   ]
  },
  {
   "cell_type": "code",
   "execution_count": 133,
   "metadata": {},
   "outputs": [],
   "source": [
    "Ns = freqs"
   ]
  },
  {
   "cell_type": "code",
   "execution_count": 134,
   "metadata": {},
   "outputs": [],
   "source": [
    "idfs = np.log((matrix.shape[1] - Ns + 0.5) / (Ns + 0.5))\n",
    "idfs[idfs < 0] = 0"
   ]
  },
  {
   "cell_type": "code",
   "execution_count": 135,
   "metadata": {},
   "outputs": [
    {
     "data": {
      "text/plain": [
       "array([0.51082562, 0.51082562, 0.        ])"
      ]
     },
     "execution_count": 135,
     "metadata": {},
     "output_type": "execute_result"
    }
   ],
   "source": [
    "idfs"
   ]
  },
  {
   "cell_type": "code",
   "execution_count": 136,
   "metadata": {},
   "outputs": [
    {
     "data": {
      "text/plain": [
       "array([1, 1, 2])"
      ]
     },
     "execution_count": 136,
     "metadata": {},
     "output_type": "execute_result"
    }
   ],
   "source": [
    "Ns"
   ]
  },
  {
   "cell_type": "code",
   "execution_count": null,
   "metadata": {},
   "outputs": [],
   "source": []
  }
 ],
 "metadata": {
  "kernelspec": {
   "display_name": "Python 3",
   "language": "python",
   "name": "python3"
  },
  "language_info": {
   "codemirror_mode": {
    "name": "ipython",
    "version": 3
   },
   "file_extension": ".py",
   "mimetype": "text/x-python",
   "name": "python",
   "nbconvert_exporter": "python",
   "pygments_lexer": "ipython3",
   "version": "3.5.6"
  }
 },
 "nbformat": 4,
 "nbformat_minor": 2
}
